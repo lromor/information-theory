{
 "cells": [
  {
   "cell_type": "code",
   "execution_count": null,
   "metadata": {},
   "outputs": [],
   "source": [
    "import os\n",
    "import string\n",
    "from collections import defaultdict, Counter\n",
    "from itertools import combinations\n",
    "%pylab\n",
    "%matplotlib inline"
   ]
  },
  {
   "cell_type": "code",
   "execution_count": null,
   "metadata": {},
   "outputs": [],
   "source": [
    "%%bash\n",
    "mkdir -p data\n",
    "wget -q -nc -P data/ https://raw.githubusercontent.com/cschaffner/InformationTheory/master/Problems/HW1/Alice_eng.txt\n",
    "wget -q -nc -P data/ https://raw.githubusercontent.com/cschaffner/InformationTheory/master/Problems/HW1/Alice_esp.txt\n",
    "wget -q -nc -P data/ https://raw.githubusercontent.com/cschaffner/InformationTheory/master/Problems/HW1/Alice_fin.txt\n",
    "wget -q -nc -P data/ https://raw.githubusercontent.com/cschaffner/InformationTheory/master/Problems/HW1/Alice_ger.txt\n",
    "wget -q -nc -P data/ https://raw.githubusercontent.com/cschaffner/InformationTheory/master/Problems/HW1/Alice_ita.txt\n",
    "wget -q -nc -P data/ https://raw.githubusercontent.com/cschaffner/InformationTheory/master/Problems/HW1/permuted_cipher.txt"
   ]
  },
  {
   "cell_type": "markdown",
   "metadata": {},
   "source": [
    "# Utilities"
   ]
  },
  {
   "cell_type": "code",
   "execution_count": null,
   "metadata": {},
   "outputs": [],
   "source": [
    "DATA_FOLDER=\"data\"\n",
    "LANGS = ('eng', 'esp', 'fin', 'ger', 'ita')\n",
    "PATH_TEMPLATE = os.path.join(DATA_FOLDER, \"Alice_{}.txt\")\n",
    "SYMBOLS = string.ascii_lowercase\n",
    "\n",
    "translation = defaultdict(lambda: None)\n",
    "translation.update({ord(s): ord(s) for s in SYMBOLS})\n",
    "\n",
    "\n",
    "def read_file(filename):\n",
    "    \"\"\"Open file in memory and close fd.\"\"\"\n",
    "    with open(filename,'r') as f:\n",
    "        return f.read()\n",
    "\n",
    "\n",
    "def preprocess_text(text, t=translation):\n",
    "    \"\"\"After converting everything in lowercase replace\n",
    "    all non letters with empty characters.\n",
    "    \"\"\"\n",
    "    return text.lower().translate(t)\n",
    "\n",
    "\n",
    "def get_data(file_path):\n",
    "    \"\"\"From a file path, return the preprocessed text\n",
    "    as required from the assignment.\n",
    "    \"\"\"\n",
    "    text = read_file(file_path)\n",
    "    return preprocess_text(text)\n",
    "\n",
    "\n",
    "def get_freq(data, labels, relative=True):\n",
    "    \"\"\"Given an iterator, returns the frequencies of the symbols \n",
    "    in sorted() order.\n",
    "    \"\"\"\n",
    "    freq = {l: 0 for l in labels}\n",
    "    for d in data:\n",
    "        try:\n",
    "            freq[d] += 1\n",
    "        except KeyError:\n",
    "            raise RuntimeError(f\"Found {d} not existing in the list of symbols: {SYMBOLS}\")\n",
    "            \n",
    "    labels, freq = zip(*sorted(freq.items()))\n",
    "    freq = np.array(freq)\n",
    "    if relative:\n",
    "        freq = freq / freq.sum()\n",
    "    return labels, freq\n",
    "\n",
    "\n",
    "def plot_counter(labels, freq, ax=None):\n",
    "    indexes = np.arange(len(labels))\n",
    "    width = 0.8\n",
    "    if ax is None:\n",
    "        ax = plt.gca()\n",
    "    ax.bar(indexes, freq, width, alpha=0.8)\n",
    "    ax.set_xticks(indexes)\n",
    "    ax.set_xticklabels(labels)\n",
    "    ax.spines['right'].set_visible(False)\n",
    "    ax.spines['top'].set_visible(False)\n",
    "    ax.spines['left'].set_visible(True)\n",
    "    ax.spines['bottom'].set_visible(True)\n",
    "    ax.set_ylim(0, 0.2)\n"
   ]
  },
  {
   "cell_type": "markdown",
   "metadata": {},
   "source": [
    "# Prepare and show data"
   ]
  },
  {
   "cell_type": "code",
   "execution_count": null,
   "metadata": {},
   "outputs": [],
   "source": [
    "\n",
    "# Collections of multiple pre-processed translations of the novel \n",
    "novel = {l: get_data(PATH_TEMPLATE.format(l)) for l in LANGS}\n",
    "novel['cipher'] = get_data(os.path.join(DATA_FOLDER, \"permuted_cipher.txt\"))\n",
    "\n",
    "\n",
    "# For each language, contains the relative frequency\n",
    "freq = {l: get_freq(data, SYMBOLS)[1] for l, data in novel.items()}\n",
    "\n",
    "\n",
    "# Examples\n",
    "print(\"Extract from each of the languages:\\n\")\n",
    "for l, t in novel.items():\n",
    "    print(f\"{l:8}: {t[2000:2100]}...\")\n",
    "print(\"\\n\")\n",
    "\n",
    "fig, axes = plt.subplots(2, 3, figsize=(15,7))\n",
    "for i, (l, data) in enumerate(novel.items()):\n",
    "    r = i // 3\n",
    "    c = i % 3\n",
    "    ax = axes[r, c]\n",
    "    labels, f = get_freq(data, SYMBOLS)\n",
    "    plot_counter(labels, f, ax=ax)\n",
    "    ax.set_title(l)\n",
    "    \n",
    "fig.tight_layout(rect=(0.1, 0.1, 0.9, 0.9))\n",
    "fig.suptitle(\"Novel alphabet frequencies by language and\\nfor the permuted cipher.\", fontsize=18)\n",
    "plt.savefig(\"relative-freq.eps\")\n",
    "plt.show()\n",
    "\n"
   ]
  },
  {
   "cell_type": "markdown",
   "metadata": {},
   "source": [
    "# Compute all pairwise variational distances\n",
    "\n",
    "Where we have that the total variational distance between $P$ and $Q$ is defined as:\n",
    "\n",
    "\\begin{equation}\n",
    "||P - Q|| := \\frac 1 2 \\sum_{x \\in \\mathcal{X}}| P(x) - Q(x) |\n",
    "\\end{equation}"
   ]
  },
  {
   "cell_type": "code",
   "execution_count": null,
   "metadata": {},
   "outputs": [],
   "source": [
    "\n",
    "def variational_distance(P, Q):\n",
    "    assert(P.sum() == 1 and Q.sum() == 1)\n",
    "    return np.abs(P - Q).sum() / 2\n",
    "\n",
    "\n",
    "def test_variational_distance(freq):\n",
    "    for l, P in freq.items():\n",
    "        assert(variational_distance(P, P) == 0)\n",
    "\n",
    "\n",
    "def print_pairwise_variational_distances(freq):\n",
    "    pairs = list(combinations((freq.keys()), 2))\n",
    "    results = {}\n",
    "    for Pl, Ql in pairs:\n",
    "        results[(Pl, Ql)] = variational_distance(freq[Pl], freq[Ql])\n",
    "    \n",
    "    results = list(results.items())\n",
    "    results.sort(key=lambda x: x[1], reverse=True)\n",
    "    for (pl, ql), v in results:\n",
    "        print(f'{pl}-{ql:8}: {v:.2f}')\n",
    "\n",
    "test_variational_distance(freq)\n",
    "print_pairwise_variational_distances(freq)"
   ]
  },
  {
   "cell_type": "markdown",
   "metadata": {},
   "source": [
    "# Compute the five collision probabilities\n",
    "\n",
    "The collision probability of a distribution $P$ is defined as:\n",
    "\n",
    "\\begin{equation}\n",
    "\\operatorname{Call}(P) := \\sum_{x\\in \\mathcal{X}} P(x)\n",
    "\\end{equation}"
   ]
  },
  {
   "cell_type": "code",
   "execution_count": null,
   "metadata": {},
   "outputs": [],
   "source": [
    "\n",
    "def collision_probability(P):\n",
    "    return np.square(P).sum()\n",
    "\n",
    "\n",
    "def print_collision_probabilities(freq):\n",
    "    rd = {}\n",
    "    for l, P in freq.items():\n",
    "        rd[l] = collision_probability(P)\n",
    "    \n",
    "    results = list(rd.items())\n",
    "    results.sort(key=lambda x: x[1], reverse=True)\n",
    "\n",
    "    print(\"Collision probabilities:\")\n",
    "    for l, v in results:\n",
    "        print(f\"{l:8}: {v}\")\n",
    "    \n",
    "    return rd\n",
    "\n",
    "rest = print_collision_probabilities(freq)"
   ]
  }
 ],
 "metadata": {
  "kernelspec": {
   "display_name": "Python 3",
   "language": "python",
   "name": "python3"
  },
  "language_info": {
   "codemirror_mode": {
    "name": "ipython",
    "version": 3
   },
   "file_extension": ".py",
   "mimetype": "text/x-python",
   "name": "python",
   "nbconvert_exporter": "python",
   "pygments_lexer": "ipython3",
   "version": "3.7.3"
  }
 },
 "nbformat": 4,
 "nbformat_minor": 4
}
